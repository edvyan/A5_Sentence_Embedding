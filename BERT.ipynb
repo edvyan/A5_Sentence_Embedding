{
 "cells": [
  {
   "cell_type": "markdown",
   "metadata": {},
   "source": [
    "## Task 1. Training BERT from Scratch with Sentence Transformer"
   ]
  },
  {
   "cell_type": "markdown",
   "metadata": {},
   "source": [
    "Answer: \n",
    "1. BERT is implemented from scratch and trained on part of dataset \"AG_NEWS\". \n",
    "2. The AG_NEWS dataset is available through the Hugging Face Datasets library, which provides a convenient interface for accessing various datasets in natural language processing.\n",
    "3. The model is saved as 'bert_model.pt' in the current folder. "
   ]
  },
  {
   "cell_type": "code",
   "execution_count": 1,
   "metadata": {},
   "outputs": [],
   "source": [
    "import math\n",
    "import re\n",
    "import numpy as np\n",
    "import torch\n",
    "import torch.nn as nn\n",
    "import torch.optim as optim\n",
    "import torch.nn.functional as F\n",
    "import nltk\n",
    "from datasets import load_dataset"
   ]
  },
  {
   "cell_type": "markdown",
   "metadata": {},
   "source": [
    "## 1. Data"
   ]
  },
  {
   "cell_type": "code",
   "execution_count": 2,
   "metadata": {},
   "outputs": [
    {
     "name": "stderr",
     "output_type": "stream",
     "text": [
      "[nltk_data] Downloading package punkt to\n",
      "[nltk_data]     C:\\Users\\Elena\\AppData\\Roaming\\nltk_data...\n",
      "[nltk_data]   Package punkt is already up-to-date!\n",
      "Using the latest cached version of the dataset since ag_news couldn't be found on the Hugging Face Hub\n",
      "Found the latest cached dataset configuration 'default' at C:\\Users\\Elena\\.cache\\huggingface\\datasets\\ag_news\\default\\0.0.0\\68a83b6cd4730be5e0ecbdbee941eef8f13aa867 (last modified on Thu Feb  1 00:51:09 2024).\n"
     ]
    }
   ],
   "source": [
    "# Ensure you have the punkt tokenizer models\n",
    "nltk.download('punkt')\n",
    "\n",
    "# Load the AG_NEWS dataset\n",
    "dataset = load_dataset(\"ag_news\", split='train')"
   ]
  },
  {
   "cell_type": "code",
   "execution_count": 3,
   "metadata": {},
   "outputs": [],
   "source": [
    "# Extract the first 100 news articles\n",
    "first_100_news = dataset.select(range(100))\n",
    "\n",
    "# Tokenize the text into sentences\n",
    "sentences = []\n",
    "for item in first_100_news:\n",
    "    # Extract text\n",
    "    text = item['text']\n",
    "    # Use NLTK to split the text into sentences\n",
    "    sentences.extend(nltk.sent_tokenize(text))\n"
   ]
  },
  {
   "cell_type": "code",
   "execution_count": 4,
   "metadata": {},
   "outputs": [
    {
     "data": {
      "text/plain": [
       "[\"Wall St. Bears Claw Back Into the Black (Reuters) Reuters - Short-sellers, Wall Street's dwindling\\\\band of ultra-cynics, are seeing green again.\",\n",
       " 'Carlyle Looks Toward Commercial Aerospace (Reuters) Reuters - Private investment firm Carlyle Group,\\\\which has a reputation for making well-timed and occasionally\\\\controversial plays in the defense industry, has quietly placed\\\\its bets on another part of the market.',\n",
       " \"Oil and Economy Cloud Stocks' Outlook (Reuters) Reuters - Soaring crude prices plus worries\\\\about the economy and the outlook for earnings are expected to\\\\hang over the stock market next week during the depth of the\\\\summer doldrums.\",\n",
       " 'Iraq Halts Oil Exports from Main Southern Pipeline (Reuters) Reuters - Authorities have halted oil export\\\\flows from the main pipeline in southern Iraq after\\\\intelligence showed a rebel militia could strike\\\\infrastructure, an oil official said on Saturday.',\n",
       " 'Oil prices soar to all-time record, posing new menace to US economy (AFP) AFP - Tearaway world oil prices, toppling records and straining wallets, present a new economic menace barely three months before the US presidential elections.',\n",
       " 'Stocks End Up, But Near Year Lows (Reuters) Reuters - Stocks ended slightly higher on Friday\\\\but stayed near lows for the year as oil prices surged past  #36;46\\\\a barrel, offsetting a positive outlook from computer maker\\\\Dell Inc. (DELL.O)',\n",
       " \"Money Funds Fell in Latest Week (AP) AP - Assets of the nation's retail money market mutual funds fell by  #36;1.17 billion in the latest week to  #36;849.98 trillion, the Investment Company Institute said Thursday.\",\n",
       " 'Fed minutes show dissent over inflation (USATODAY.com) USATODAY.com - Retail sales bounced back a bit in July, and new claims for jobless benefits fell last week, the government said Thursday, indicating the economy is improving from a midsummer slump.',\n",
       " 'Safety Net (Forbes.com) Forbes.com - After earning a PH.D. in Sociology, Danny Bazil Riley started to work as the general manager at a commercial real estate firm at an annual base salary of  #36;70,000.',\n",
       " 'Soon after, a financial planner stopped by his desk to drop off brochures about insurance benefits available through his employer.',\n",
       " 'But, at 32, \"buying insurance was the furthest thing from my mind,\" says Riley.',\n",
       " \"Wall St. Bears Claw Back Into the Black  NEW YORK (Reuters) - Short-sellers, Wall Street's dwindling  band of ultra-cynics, are seeing green again.\",\n",
       " \"Oil and Economy Cloud Stocks' Outlook  NEW YORK (Reuters) - Soaring crude prices plus worries  about the economy and the outlook for earnings are expected to  hang over the stock market next week during the depth of the  summer doldrums.\",\n",
       " \"No Need for OPEC to Pump More-Iran Gov  TEHRAN (Reuters) - OPEC can do nothing to douse scorching  oil prices when markets are already oversupplied by 2.8 million  barrels per day (bpd) of crude, Iran's OPEC governor said  Saturday, warning that prices could fall sharply.\",\n",
       " 'Non-OPEC Nations Should Up Output-Purnomo  JAKARTA (Reuters) - Non-OPEC oil exporters should consider  increasing output to cool record crude prices, OPEC President  Purnomo Yusgiantoro said on Sunday.',\n",
       " \"Google IPO Auction Off to Rocky Start  WASHINGTON/NEW YORK (Reuters) - The auction for Google  Inc.'s highly anticipated initial public offering got off to a  rocky start on Friday after the Web search company sidestepped  a bullet from U.S. securities regulators.\",\n",
       " \"Dollar Falls Broadly on Record Trade Gap  NEW YORK (Reuters) - The dollar tumbled broadly on Friday  after data showing a record U.S. trade deficit in June cast  fresh doubts on the economy's recovery and its ability to draw  foreign capital to fund the growing gap.\",\n",
       " \"Rescuing an Old Saver If you think you may need to help your elderly relatives with their finances, don't be shy about having the money talk -- soon.\",\n",
       " 'Kids Rule for Back-to-School The purchasing power of kids is a big part of why the back-to-school season has become such a huge marketing phenomenon.',\n",
       " \"In a Down Market, Head Toward Value Funds There is little cause for celebration in the stock market these days, but investors in value-focused mutual funds have reason to feel a bit smug -- if only because they've lost less than the folks who stuck with growth.\",\n",
       " 'US trade deficit swells in June The US trade deficit has exploded 19 to a record \\\\$55.8bn as oil costs drove imports higher, according to a latest figures.',\n",
       " \"Shell 'could be target for Total' Oil giant Shell could be bracing itself for a takeover attempt, possibly from French rival Total, a  press report claims.\",\n",
       " \"Google IPO faces Playboy slip-up The bidding gets underway for Google's public offering, despite last-minute worries over an interview with its bosses in Playboy magazine.\",\n",
       " 'Eurozone economy keeps growing Official figures show the 12-nation eurozone economy continues to grow, but there are warnings it may slow down later in the year.',\n",
       " 'Expansion slows in Japan Economic growth in Japan slows down as the country experiences a drop in domestic and corporate spending.',\n",
       " 'Rand falls on shock SA rate cut Interest rates are trimmed to 7.5 by the South African central bank,  but the lack of warning hits the rand and surprises markets.',\n",
       " 'Car prices down across the board The cost of buying both new and second hand cars fell sharply over the past five years, a new survey has found.',\n",
       " \"South Korea lowers interest rates South Korea's central bank cuts interest rates by a quarter percentage point to 3.5 in a bid to drive growth in the economy.\",\n",
       " 'Google auction begins on Friday An auction of shares in Google, the web search engine which could be floated for as much as \\\\$36bn, takes place on Friday.',\n",
       " 'HP shares tumble on profit news Hewlett-Packard shares fall after disappointing third-quarter profits, while the firm warns the final quarter will also fall short of expectations.',\n",
       " 'Mauritian textile firm cuts jobs One of the oldest textile operators on the Indian Ocean island of Mauritius last week shut seven factories and cut 900 jobs.',\n",
       " 'Chad seeks refugee aid from IMF Chad asks the IMF for a loan to pay for looking after more than 100,000 refugees from conflict-torn Darfur in western Sudan.',\n",
       " 'Japan nuclear firm shuts plants The company running the Japanese nuclear plant hit by a fatal accident is to close its reactors for safety checks.',\n",
       " 'Veteran inventor in market float Trevor Baylis, the veteran inventor famous for creating the Freeplay clockwork radio, is planning to float his company on the stock market.',\n",
       " 'Saudi Arabia to open up oil taps Saudi Arabia says it is ready to push an extra 1.3 million barrels a day of oil into the market, to help reverse surging prices.',\n",
       " \"Saudi phone sector gets \\\\$1bn lift A group led by the UAE's Etisalat plans to spend \\\\$1bn (544m) on expansion after winning two mobile phone licences in Saudi Arabia.\",\n",
       " 'Indians fill rail skills shortage Network Rail flies in specialist Indian engineers to work on the West Coast Mainline because of a UK skills shortage.',\n",
       " 'Steady as they go BEDFORD -- Scientists at NitroMed Inc. hope their experimental drugs will cure heart disease someday.',\n",
       " 'But lately their focus has been on more mundane matters.',\n",
       " \"Google IPO: Type in 'confusing,' 'secrecy' I've submitted my bid to buy shares of Google Inc. in the computer search company's giant auction-style initial public offering.\",\n",
       " 'That could turn out to be the good news or the bad news.',\n",
       " \"A bargain hunter's paradise Massachusetts bargain hunters showed up in droves and shopped hard on yesterday's sales tax holiday, buying everything from treadmills and snow blowers to candles and chandeliers, and crediting the 5-percent tax break with bringing them into the stores.\",\n",
       " 'Researchers seek to untangle the e-mail thread E-mail is a victim of its own success.',\n",
       " \"That's the conclusion of IBM Corp. researchers in Cambridge, who have spent nearly a decade conducting field tests at IBM and other companies about how employees work and use electronic mail.\",\n",
       " \"It's clear to them that e-mail has become the Internet's killer application.\",\n",
       " 'Microsoft Corp. 2.0: a kinder corporate culture Even a genius can mess up.',\n",
       " 'Bill Gates was a brilliant technologist when he cofounded Microsoft , but as he guided it to greatness in both size and historical consequence, he blundered.',\n",
       " 'He terrorized underlings with his temper and parceled out praise like Scrooge gave to charity.',\n",
       " 'Only the lash inspired the necessary aggressiveness to beat the competition, he thought.',\n",
       " \"Letters Target the abusers of legal weapons We can all share the outrage, expressed by columnist Steve Bailey (''Summer Sizzler, quot; Aug. 11), at the killings in the city's poor neighborhoods.\",\n",
       " \"But there's no need to share his ignorance.\",\n",
       " \"He argues for renewal of the so-called assault weapon ban, claiming that otherwise, ''UZIs and AK-47s could again be flooding the streets.\",\n",
       " 'quot; His ...',\n",
       " \"Somewhere between gleam and gloom President Bush has been saying that the US economy has ''turned the corner.\",\n",
       " \"quot; Democratic presidential candidate Senator John F. Kerry, in the wake of this month's poor jobs report, quipped that it was more like a U-turn.\",\n",
       " 'Technology company sues five ex-employees  A Marlborough-based technology company is suing five former employees, including three senior managers, for allegedly conspiring against their employer while working on opening a competing business.',\n",
       " 'Grant to aid Lynn Central Square Central Square in Lynn should be looking a bit brighter.',\n",
       " 'New sidewalks, curbs, fences, lights, landscaping, and road improvements are planned for the Gateway Artisan Block, a key area of the square, with \\\\$830,000 in state grant money given to Lynn last week.',\n",
       " 'State grant to aid Lynn; Bank gives Salem \\\\$10k Central Square in Lynn should be looking a bit brighter.',\n",
       " 'New sidewalks, curbs, fences, lights, landscaping, and road improvements are planned for the Gateway Artisan Block, a key area of the square, with \\\\$830,000 in state grant money given to Lynn last week.',\n",
       " \"A New Legal Chapter for a 90's Flameout A lawsuit against Gary Winnick, the former chief of Global Crossing, refocuses attention on what Mr. Winnick knew about his company's finances as it imploded.\",\n",
       " 'Will Russia, the Oil Superpower, Flex Its Muscles?',\n",
       " 'Russia is again emerging as a superpower - but the reason has less to do with nuclear weapons than with oil.',\n",
       " \"Switching Titles, if Not Gears, at Dell Kevin B. Rollins, the new chief executive of Dell, talks about Dell's transitory slip in customer service, and why he sees a broader technology recovery taking place.\",\n",
       " 'For Sale: The Ultimate Status Symbol With the country in need of cash and rich people dying to show off their wealth, Mr. Stein proposes a unique solution: having the government sell titles of nobility.',\n",
       " 'Quality Gets Swept Away Quality Distribution is hammered after reporting a large loss for the second quarter.',\n",
       " 'Making Your Insurer Pay If Hurricane Charley blows your house down, how can you make your insurance company pay?',\n",
       " \"Delightful Dell The company's results show that it's not grim all over tech world.\",\n",
       " \"Just all of it that isn't Dell.\",\n",
       " \"Chrysler's Bling King After a tough year, Detroit's troubled carmaker is back -- thanks to a maverick designer and a car that is dazzling the hip-hop crowd\",\n",
       " \"What's Cool In the Pool ... ... And Hot On the Deck Americans are spending more on tricking out the places where they swim.\",\n",
       " \"Here's a look at the new wave of accessories\",\n",
       " 'The Age of Doom In 1993 six geeks had a digital nightmare that changed the culture.',\n",
       " \"It's about to get far creepier\",\n",
       " \"Hip Hop's Online Shop Celebrity fashion is booming.\",\n",
       " 'These webpreneurs are bringing it to main street',\n",
       " 'Stoking the Steamroller No other recording artist can channel American middle-class tastes quite like Chip Davis and his best-selling band',\n",
       " 'Coming to The Rescue Got a unique problem?',\n",
       " 'Not to worry: you can find a financial planner for every specialized need',\n",
       " \"The New Customers Are In Town Today's customers are increasingly demanding, in Asia as elsewhere in the world.\",\n",
       " \"Henry Astorga describes the complex reality faced by today's marketers, which includes much higher expectations than we have been used to.\",\n",
       " \"Today's customers want performance, and they want it now!\",\n",
       " \"Barrel of Monkeys, 2004 Edition: Notes on Philippine Elections Well, it's election time in the Republic of the Philippines, and that means the monkeys are rolling around in those political barrels, having as much fun as they can while laughing their heads off at the strange goings-on that characterize a democratic process loosely based on the American model  but that de facto looks more like a Fellini movie crossed with a Tom and Jerry cartoon - column includes a useful election-year glossary!\",\n",
       " 'Oldsmobile: The final parking lot Why General Motors dropped the Oldsmobile.',\n",
       " 'The four brand  paradoxes GM had to face - the name, the product, image re-positioning, and the consumer - all added up to a brand that had little hope of rebranding.',\n",
       " \"Not All Jobs Belong To The White Man: Asian Minorities, Affirmative Action, And The Quest For Parity At Work Although a smattering of Chinese, Filipinos, Japanese, Indians, Thais, and others may crow about seeing their kind sitting in prominent positions in corporations and organizations in the USA, these accomplishments become mere cultural high-fives and ritualistic chest-thumping goaded and impishly patronized by 'mainstream society' - the milder and gentler term for the white-dominated populace.\",\n",
       " \"Downhome Pinoy Blues, Intersecting Life Paths, and Heartbreak Songs The Blues is alive and well in the Philippines, as evidenced by this appreciation of the Pinoy Blues band 'Lampano Alley', penned by columnist Clarence Henderson as a counterpoint to his usual economics, business, and culture fare.\",\n",
       " 'The Real Time Modern Manila Blues: Bill Monroe Meets Muddy Waters in the Orient Globalization does strange things to people.',\n",
       " 'A day in the life of a Manila Philippines based business consultant - proving that you really CAN talk about Muddy Walters, bluegrass and work all on the same page...',\n",
       " \"Best Asian Tourism Destinations The new APMF survey of the best Asian tourism destinations has just kicked off, but it's crowded at the top, with Chiang Mai in Thailand just leading from perennial favourites Hong Kong, Bangkok and Phuket in Thailand, and Bali in  Indonesia.\",\n",
       " 'Be one of the first to vote and let us know your reasons.',\n",
       " 'What are the best cities for business in Asia?',\n",
       " 'One of our new categories in the APMF Sense of Place survey is for best Asian business city.',\n",
       " 'After a couple of days, Singapore leads the pack, followed by Bangkok, Thailand and Hong Kong.',\n",
       " 'Enter your vote and comments and make your views count.',\n",
       " 'More new categories include best city for livability, and best tourism destinations.',\n",
       " 'IT alligator tales I grew up in New York, where giant alligators -- sometimes more ornately described as albino alligators -- were rumored to roam the citys sewer systems.',\n",
       " 'According to legend, vacationers picked up the tiny crocodilians in Florida, brought them home to New York, and eventually flushed the little buggers when they grew too big for the local concrete jungle.',\n",
       " 'IT Myth 5: Most IT projects fail Do most IT projects fail?',\n",
       " 'Some point to the number of giant consultancies such as IBM Global Services, Capgemini, and Sapient, who feed off bad experiences encountered by enterprises.',\n",
       " 'Sapient is a company founded on the realization that IT projects are not successful, says Sapient CTO Ben Gaucherin.',\n",
       " \"BEA grabs CA exec to head product group BEA Systems Inc. has hired the Computer Associates International Inc. executive responsible for CA's Unicenter line of enterprise management software to head BEA's product development group.\",\n",
       " 'Autodesk tackles project collaboration Autodesk  this week unwrapped an updated version of its hosted project collaboration service targeted at the construction and manufacturing industries.',\n",
       " 'Autodesk Buzzsaw lets multiple, dispersed project participants -- including building owners, developers, architects, construction teams, and facility managers -- share and manage data throughout the life of a project, according to Autodesk officials.',\n",
       " \"U.K.'s NHS taps Gartner to help plan \\\\$9B IT overhaul LONDON -- The U.K.'s National Health Service (NHS) has tapped IT researcher Gartner Inc. to provide market intelligence services as the health organization forges ahead with a mammoth, 5 billion (\\\\$9.2 billion) project to upgrade its information technology infrastructure.\",\n",
       " \"Play Boys: Google IPO a Go Anyway Even though Google's two founders gave an interview to Playboy magazine in the midst of its IPO filing, the SEC allowed the company's offering to go ahead.\",\n",
       " 'The boys filed the interview with the SEC and corrected mistakes in it.',\n",
       " \"More Big Boobs in Playboy An interview with Google's co-founders due out in the current issue of Playboy may delay the company's IPO.\",\n",
       " 'Securities regulations restrict what executives can say while preparing to sell stock for the first time.',\n",
       " \"Dutch Firm Beats Apple to Punch A music retailer from the Netherlands beats Apple by launching a download service in Europe's latest market battleground.\",\n",
       " 'Also: Movie industry wrests agreement from defunct company.... Microsoft challenges Photoshop   hellip;.',\n",
       " 'and more.',\n",
       " 'HP to Buy Synstar Hewlett-Packard will pay \\\\$297 million for the British company.',\n",
       " 'Also: TiVo goes all out to attract customers   hellip;.',\n",
       " 'Sprint offers service guarantees for business wireless subscribers   hellip;.',\n",
       " 'and more.',\n",
       " 'A Personal Operator From Verizon Verizon plans to offer a service that would act as a virtual switchboard operator, letting customers stay in touch at all times.',\n",
       " 'The program would send phone calls, voicemails and e-mails wherever customers designate.',\n",
       " 'By Elisa Batista.',\n",
       " 'Paid Search Growth May Slow A new Internet advertising forecast shows a slowdown in paid search listings in the next five years.',\n",
       " \"Will the projection affect Google's prospects when it goes public?\",\n",
       " 'Fark Sells Out.',\n",
       " 'France Surrenders Blogs are the hottest thing on the Net, but are they messing with traditional publishing principles?',\n",
       " 'One of the most popular, Fark.com, is allegedly selling links.',\n",
       " 'Is it the wave of the future?',\n",
       " 'By Daniel Terdiman.',\n",
       " \"'Madden,' 'ESPN' Football Score in Different Ways (Reuters) Reuters - Was absenteeism a little high\\\\on Tuesday among the guys at the office?\",\n",
       " 'EA Sports would like\\\\to think it was because \"Madden NFL 2005\" came out that day,\\\\and some fans of the football simulation are rabid enough to\\\\take a sick day to play it.',\n",
       " 'Group to Propose New High-Speed Wireless Format (Reuters) Reuters - A group of technology companies\\\\including Texas Instruments Inc. (TXN.N), STMicroelectronics\\\\(STM.PA) and Broadcom Corp. (BRCM.O), on Thursday said they\\\\will propose a new wireless networking standard up to 10 times\\\\the speed of the current generation.',\n",
       " 'AOL to Sell Cheap PCs to Minorities and Seniors (Reuters) Reuters - America Online on Thursday said it\\\\plans to sell a low-priced PC targeting low-income and minority\\\\households who agree to sign up for a year of dialup Internet\\\\service.',\n",
       " 'Companies Approve New High-Capacity Disc Format (Reuters) Reuters - A group of consumer electronics\\\\makers said on Wednesday they approved the format for a new\\\\generation of discs that can store five times the data of DVDs\\\\at the same cost -- enough to put a full season of \"The\\\\Sopranos\" on one disc.',\n",
       " 'Missing June Deals Slow to Return for Software Cos. (Reuters) Reuters - The mystery of what went wrong for the\\\\software industry in late June when sales stalled at more than\\\\20 brand-name companies is not even close to being solved\\\\although the third quarter is nearly halfway over.',\n",
       " \"Hacker Cracks Apple's Streaming Technology (AP) AP - The Norwegian hacker famed for developing DVD encryption-cracking software has apparently struck again  #151; this time breaking the locks on Apple Computer Inc.'s wireless music streaming technology.\",\n",
       " 'European Download Services Go Mobile (Reuters) Reuters - The ability to download complete\\\\tracks directly over cell-phone networks to mobile phones is\\\\becoming a reality in Europe.',\n",
       " 'Open Source Apps Developer SugarCRM Releases Sugar.Sales 1.1 (TechWeb) TechWeb - News - August 13, 2004',\n",
       " \"Oracle Sales Data Seen Being Released (Reuters) Reuters - Oracle Corp. sales documents\\\\detailing highly confidential information, such as which\\\\companies receive discounts on Oracle's business software\\\\products and the size of the discounts, are likely to be made\\\\public, a federal judge said on Friday.\",\n",
       " \"Sun's Looking Glass Provides 3D View (PC World) PC World - Developers get early code for new operating system 'skin' still being crafted.\",\n",
       " 'Apple to open second Japanese retail store this month (MacCentral) MacCentral - Apple Computer Inc. will open its second Japanese retail store later this month in the western Japanese city of Osaka, it said Thursday.',\n",
       " \"Charley's Force Took Experts by Surprise (AP) AP - Hurricane Charley's 145-mph force took forecasters by surprise and showed just how shaky a science it still is to predict a storm's intensity  #151; even with all the latest satellite and radar technology.\",\n",
       " \"Science, Politics Collide in Election Year (AP) AP - With more than 4,000 scientists, including 48 Nobel Prize winners, having signed a statement opposing the Bush administration's use of scientific advice, this election year is seeing a new development in the uneasy relationship between science and politics.\",\n",
       " 'Building Dedicated to Columbia Astronauts (AP) AP - A former dormitory converted to classrooms at the Pensacola Naval Air Station was dedicated Friday to two Columbia astronauts who were among the seven who died in the shuttle disaster Feb. 1, 2003.',\n",
       " 'Russian Cargo Craft Docks at Space Station (AP) AP - A Russian cargo ship docked with the international space station Saturday, bringing food, water, fuel and other items to the two-man Russian-American crew, a space official said.',\n",
       " \"Bangkok's Canals Losing to Urban Sprawl (AP) AP - Along the banks of the canal, women in rowboats grill fish and sell fresh bananas.\",\n",
       " 'Families eat on floating pavilions, rocked gently by waves from passing boats.',\n",
       " 'T. Rex Had Teen Growth Spurt, Scientists Say (Reuters) Reuters - Tyrannosaurus Rex grew incredibly fast\\\\during a teenaged growth spurt that saw the dinosaur expand its\\\\bulk by six times, but the fearsome beasts \"lived fast and died\\\\young,\" researchers said on Wednesday.',\n",
       " 'Gene Blocker Turns Monkeys Into Workaholics - Study (Reuters) Reuters - Procrastinating monkeys were turned\\\\into workaholics using a gene treatment to block a key brain\\\\compound, U.S. researchers reported on Wednesday.',\n",
       " 'Dolphins Too Have Born Socialites (Reuters) Reuters - Some people are born to be the life and\\\\soul of the party -- and so it seems are some dolphins.',\n",
       " \"What's in a Name?\",\n",
       " 'Well, Matt Is Sexier Than Paul (Reuters) Reuters - As Shakespeare said, a rose by any other\\\\name would smell as sweet.',\n",
       " 'Right?',\n",
       " 'UK Scientists Allowed to Clone Human Embryos (Reuters) Reuters - British scientists said on Wednesday\\\\they had received permission to clone human embryos for medical\\\\research, in what they believe to be the first such license to\\\\be granted in Europe.',\n",
       " 'Russian Alien Spaceship Claims Raise Eyebrows, Skepticism (SPACE.com) SPACE.com - An expedition of Russian researchers claims to have found evidence that an \\\\  alien spaceship had something to do with a huge explosion over Siberia in 1908.',\n",
       " '\\\\  Experts in asteroids and comets have long said the massive blast was caused \\\\  by a space rock.']"
      ]
     },
     "execution_count": 4,
     "metadata": {},
     "output_type": "execute_result"
    }
   ],
   "source": [
    "sentences"
   ]
  },
  {
   "cell_type": "code",
   "execution_count": 5,
   "metadata": {},
   "outputs": [
    {
     "data": {
      "text/plain": [
       "153"
      ]
     },
     "execution_count": 5,
     "metadata": {},
     "output_type": "execute_result"
    }
   ],
   "source": [
    "len(sentences)"
   ]
  },
  {
   "cell_type": "code",
   "execution_count": 6,
   "metadata": {},
   "outputs": [
    {
     "data": {
      "text/plain": [
       "[\"wall st bears claw back into the black (reuters) reuters  shortsellers wall street's dwindling\\\\band of ultracynics are seeing green again\",\n",
       " 'carlyle looks toward commercial aerospace (reuters) reuters  private investment firm carlyle group\\\\which has a reputation for making welltimed and occasionally\\\\controversial plays in the defense industry has quietly placed\\\\its bets on another part of the market',\n",
       " \"oil and economy cloud stocks' outlook (reuters) reuters  soaring crude prices plus worries\\\\about the economy and the outlook for earnings are expected to\\\\hang over the stock market next week during the depth of the\\\\summer doldrums\",\n",
       " 'iraq halts oil exports from main southern pipeline (reuters) reuters  authorities have halted oil export\\\\flows from the main pipeline in southern iraq after\\\\intelligence showed a rebel militia could strike\\\\infrastructure an oil official said on saturday',\n",
       " 'oil prices soar to alltime record posing new menace to us economy (afp) afp  tearaway world oil prices toppling records and straining wallets present a new economic menace barely three months before the us presidential elections',\n",
       " 'stocks end up but near year lows (reuters) reuters  stocks ended slightly higher on friday\\\\but stayed near lows for the year as oil prices surged past  #36;46\\\\a barrel offsetting a positive outlook from computer maker\\\\dell inc (dello)',\n",
       " \"money funds fell in latest week (ap) ap  assets of the nation's retail money market mutual funds fell by  #36;117 billion in the latest week to  #36;84998 trillion the investment company institute said thursday\",\n",
       " 'fed minutes show dissent over inflation (usatodaycom) usatodaycom  retail sales bounced back a bit in july and new claims for jobless benefits fell last week the government said thursday indicating the economy is improving from a midsummer slump',\n",
       " 'safety net (forbescom) forbescom  after earning a phd in sociology danny bazil riley started to work as the general manager at a commercial real estate firm at an annual base salary of  #36;70000',\n",
       " 'soon after a financial planner stopped by his desk to drop off brochures about insurance benefits available through his employer',\n",
       " 'but at 32 \"buying insurance was the furthest thing from my mind\" says riley',\n",
       " \"wall st bears claw back into the black  new york (reuters)  shortsellers wall street's dwindling  band of ultracynics are seeing green again\",\n",
       " \"oil and economy cloud stocks' outlook  new york (reuters)  soaring crude prices plus worries  about the economy and the outlook for earnings are expected to  hang over the stock market next week during the depth of the  summer doldrums\",\n",
       " \"no need for opec to pump moreiran gov  tehran (reuters)  opec can do nothing to douse scorching  oil prices when markets are already oversupplied by 28 million  barrels per day (bpd) of crude iran's opec governor said  saturday warning that prices could fall sharply\",\n",
       " 'nonopec nations should up outputpurnomo  jakarta (reuters)  nonopec oil exporters should consider  increasing output to cool record crude prices opec president  purnomo yusgiantoro said on sunday',\n",
       " \"google ipo auction off to rocky start  washington/new york (reuters)  the auction for google  inc's highly anticipated initial public offering got off to a  rocky start on friday after the web search company sidestepped  a bullet from us securities regulators\",\n",
       " \"dollar falls broadly on record trade gap  new york (reuters)  the dollar tumbled broadly on friday  after data showing a record us trade deficit in june cast  fresh doubts on the economy's recovery and its ability to draw  foreign capital to fund the growing gap\",\n",
       " \"rescuing an old saver if you think you may need to help your elderly relatives with their finances don't be shy about having the money talk  soon\",\n",
       " 'kids rule for backtoschool the purchasing power of kids is a big part of why the backtoschool season has become such a huge marketing phenomenon',\n",
       " \"in a down market head toward value funds there is little cause for celebration in the stock market these days but investors in valuefocused mutual funds have reason to feel a bit smug  if only because they've lost less than the folks who stuck with growth\",\n",
       " 'us trade deficit swells in june the us trade deficit has exploded 19 to a record \\\\$558bn as oil costs drove imports higher according to a latest figures',\n",
       " \"shell 'could be target for total' oil giant shell could be bracing itself for a takeover attempt possibly from french rival total a  press report claims\",\n",
       " \"google ipo faces playboy slipup the bidding gets underway for google's public offering despite lastminute worries over an interview with its bosses in playboy magazine\",\n",
       " 'eurozone economy keeps growing official figures show the 12nation eurozone economy continues to grow but there are warnings it may slow down later in the year',\n",
       " 'expansion slows in japan economic growth in japan slows down as the country experiences a drop in domestic and corporate spending',\n",
       " 'rand falls on shock sa rate cut interest rates are trimmed to 75 by the south african central bank  but the lack of warning hits the rand and surprises markets',\n",
       " 'car prices down across the board the cost of buying both new and second hand cars fell sharply over the past five years a new survey has found',\n",
       " \"south korea lowers interest rates south korea's central bank cuts interest rates by a quarter percentage point to 35 in a bid to drive growth in the economy\",\n",
       " 'google auction begins on friday an auction of shares in google the web search engine which could be floated for as much as \\\\$36bn takes place on friday',\n",
       " 'hp shares tumble on profit news hewlettpackard shares fall after disappointing thirdquarter profits while the firm warns the final quarter will also fall short of expectations',\n",
       " 'mauritian textile firm cuts jobs one of the oldest textile operators on the indian ocean island of mauritius last week shut seven factories and cut 900 jobs',\n",
       " 'chad seeks refugee aid from imf chad asks the imf for a loan to pay for looking after more than 100000 refugees from conflicttorn darfur in western sudan',\n",
       " 'japan nuclear firm shuts plants the company running the japanese nuclear plant hit by a fatal accident is to close its reactors for safety checks',\n",
       " 'veteran inventor in market float trevor baylis the veteran inventor famous for creating the freeplay clockwork radio is planning to float his company on the stock market',\n",
       " 'saudi arabia to open up oil taps saudi arabia says it is ready to push an extra 13 million barrels a day of oil into the market to help reverse surging prices',\n",
       " \"saudi phone sector gets \\\\$1bn lift a group led by the uae's etisalat plans to spend \\\\$1bn (544m) on expansion after winning two mobile phone licences in saudi arabia\",\n",
       " 'indians fill rail skills shortage network rail flies in specialist indian engineers to work on the west coast mainline because of a uk skills shortage',\n",
       " 'steady as they go bedford  scientists at nitromed inc hope their experimental drugs will cure heart disease someday',\n",
       " 'but lately their focus has been on more mundane matters',\n",
       " \"google ipo: type in 'confusing' 'secrecy' i've submitted my bid to buy shares of google inc in the computer search company's giant auctionstyle initial public offering\",\n",
       " 'that could turn out to be the good news or the bad news',\n",
       " \"a bargain hunter's paradise massachusetts bargain hunters showed up in droves and shopped hard on yesterday's sales tax holiday buying everything from treadmills and snow blowers to candles and chandeliers and crediting the 5percent tax break with bringing them into the stores\",\n",
       " 'researchers seek to untangle the email thread email is a victim of its own success',\n",
       " \"that's the conclusion of ibm corp researchers in cambridge who have spent nearly a decade conducting field tests at ibm and other companies about how employees work and use electronic mail\",\n",
       " \"it's clear to them that email has become the internet's killer application\",\n",
       " 'microsoft corp 20: a kinder corporate culture even a genius can mess up',\n",
       " 'bill gates was a brilliant technologist when he cofounded microsoft  but as he guided it to greatness in both size and historical consequence he blundered',\n",
       " 'he terrorized underlings with his temper and parceled out praise like scrooge gave to charity',\n",
       " 'only the lash inspired the necessary aggressiveness to beat the competition he thought',\n",
       " \"letters target the abusers of legal weapons we can all share the outrage expressed by columnist steve bailey (''summer sizzler quot; aug 11) at the killings in the city's poor neighborhoods\",\n",
       " \"but there's no need to share his ignorance\",\n",
       " \"he argues for renewal of the socalled assault weapon ban claiming that otherwise ''uzis and ak47s could again be flooding the streets\",\n",
       " 'quot; his ',\n",
       " \"somewhere between gleam and gloom president bush has been saying that the us economy has ''turned the corner\",\n",
       " \"quot; democratic presidential candidate senator john f kerry in the wake of this month's poor jobs report quipped that it was more like a uturn\",\n",
       " 'technology company sues five exemployees  a marlboroughbased technology company is suing five former employees including three senior managers for allegedly conspiring against their employer while working on opening a competing business',\n",
       " 'grant to aid lynn central square central square in lynn should be looking a bit brighter',\n",
       " 'new sidewalks curbs fences lights landscaping and road improvements are planned for the gateway artisan block a key area of the square with \\\\$830000 in state grant money given to lynn last week',\n",
       " 'state grant to aid lynn; bank gives salem \\\\$10k central square in lynn should be looking a bit brighter',\n",
       " 'new sidewalks curbs fences lights landscaping and road improvements are planned for the gateway artisan block a key area of the square with \\\\$830000 in state grant money given to lynn last week',\n",
       " \"a new legal chapter for a 90's flameout a lawsuit against gary winnick the former chief of global crossing refocuses attention on what mr winnick knew about his company's finances as it imploded\",\n",
       " 'will russia the oil superpower flex its muscles',\n",
       " 'russia is again emerging as a superpower  but the reason has less to do with nuclear weapons than with oil',\n",
       " \"switching titles if not gears at dell kevin b rollins the new chief executive of dell talks about dell's transitory slip in customer service and why he sees a broader technology recovery taking place\",\n",
       " 'for sale: the ultimate status symbol with the country in need of cash and rich people dying to show off their wealth mr stein proposes a unique solution: having the government sell titles of nobility',\n",
       " 'quality gets swept away quality distribution is hammered after reporting a large loss for the second quarter',\n",
       " 'making your insurer pay if hurricane charley blows your house down how can you make your insurance company pay',\n",
       " \"delightful dell the company's results show that it's not grim all over tech world\",\n",
       " \"just all of it that isn't dell\",\n",
       " \"chrysler's bling king after a tough year detroit's troubled carmaker is back  thanks to a maverick designer and a car that is dazzling the hiphop crowd\",\n",
       " \"what's cool in the pool   and hot on the deck americans are spending more on tricking out the places where they swim\",\n",
       " \"here's a look at the new wave of accessories\",\n",
       " 'the age of doom in 1993 six geeks had a digital nightmare that changed the culture',\n",
       " \"it's about to get far creepier\",\n",
       " \"hip hop's online shop celebrity fashion is booming\",\n",
       " 'these webpreneurs are bringing it to main street',\n",
       " 'stoking the steamroller no other recording artist can channel american middleclass tastes quite like chip davis and his bestselling band',\n",
       " 'coming to the rescue got a unique problem',\n",
       " 'not to worry: you can find a financial planner for every specialized need',\n",
       " \"the new customers are in town today's customers are increasingly demanding in asia as elsewhere in the world\",\n",
       " \"henry astorga describes the complex reality faced by today's marketers which includes much higher expectations than we have been used to\",\n",
       " \"today's customers want performance and they want it now\",\n",
       " \"barrel of monkeys 2004 edition: notes on philippine elections well it's election time in the republic of the philippines and that means the monkeys are rolling around in those political barrels having as much fun as they can while laughing their heads off at the strange goingson that characterize a democratic process loosely based on the american model  but that de facto looks more like a fellini movie crossed with a tom and jerry cartoon  column includes a useful electionyear glossary\",\n",
       " 'oldsmobile: the final parking lot why general motors dropped the oldsmobile',\n",
       " 'the four brand  paradoxes gm had to face  the name the product image repositioning and the consumer  all added up to a brand that had little hope of rebranding',\n",
       " \"not all jobs belong to the white man: asian minorities affirmative action and the quest for parity at work although a smattering of chinese filipinos japanese indians thais and others may crow about seeing their kind sitting in prominent positions in corporations and organizations in the usa these accomplishments become mere cultural highfives and ritualistic chestthumping goaded and impishly patronized by 'mainstream society'  the milder and gentler term for the whitedominated populace\",\n",
       " \"downhome pinoy blues intersecting life paths and heartbreak songs the blues is alive and well in the philippines as evidenced by this appreciation of the pinoy blues band 'lampano alley' penned by columnist clarence henderson as a counterpoint to his usual economics business and culture fare\",\n",
       " 'the real time modern manila blues: bill monroe meets muddy waters in the orient globalization does strange things to people',\n",
       " 'a day in the life of a manila philippines based business consultant  proving that you really can talk about muddy walters bluegrass and work all on the same page',\n",
       " \"best asian tourism destinations the new apmf survey of the best asian tourism destinations has just kicked off but it's crowded at the top with chiang mai in thailand just leading from perennial favourites hong kong bangkok and phuket in thailand and bali in  indonesia\",\n",
       " 'be one of the first to vote and let us know your reasons',\n",
       " 'what are the best cities for business in asia',\n",
       " 'one of our new categories in the apmf sense of place survey is for best asian business city',\n",
       " 'after a couple of days singapore leads the pack followed by bangkok thailand and hong kong',\n",
       " 'enter your vote and comments and make your views count',\n",
       " 'more new categories include best city for livability and best tourism destinations',\n",
       " 'it alligator tales i grew up in new york where giant alligators  sometimes more ornately described as albino alligators  were rumored to roam the citys sewer systems',\n",
       " 'according to legend vacationers picked up the tiny crocodilians in florida brought them home to new york and eventually flushed the little buggers when they grew too big for the local concrete jungle',\n",
       " 'it myth 5: most it projects fail do most it projects fail',\n",
       " 'some point to the number of giant consultancies such as ibm global services capgemini and sapient who feed off bad experiences encountered by enterprises',\n",
       " 'sapient is a company founded on the realization that it projects are not successful says sapient cto ben gaucherin',\n",
       " \"bea grabs ca exec to head product group bea systems inc has hired the computer associates international inc executive responsible for ca's unicenter line of enterprise management software to head bea's product development group\",\n",
       " 'autodesk tackles project collaboration autodesk  this week unwrapped an updated version of its hosted project collaboration service targeted at the construction and manufacturing industries',\n",
       " 'autodesk buzzsaw lets multiple dispersed project participants  including building owners developers architects construction teams and facility managers  share and manage data throughout the life of a project according to autodesk officials',\n",
       " \"uk's nhs taps gartner to help plan \\\\$9b it overhaul london  the uk's national health service (nhs) has tapped it researcher gartner inc to provide market intelligence services as the health organization forges ahead with a mammoth 5 billion (\\\\$92 billion) project to upgrade its information technology infrastructure\",\n",
       " \"play boys: google ipo a go anyway even though google's two founders gave an interview to playboy magazine in the midst of its ipo filing the sec allowed the company's offering to go ahead\",\n",
       " 'the boys filed the interview with the sec and corrected mistakes in it',\n",
       " \"more big boobs in playboy an interview with google's cofounders due out in the current issue of playboy may delay the company's ipo\",\n",
       " 'securities regulations restrict what executives can say while preparing to sell stock for the first time',\n",
       " \"dutch firm beats apple to punch a music retailer from the netherlands beats apple by launching a download service in europe's latest market battleground\",\n",
       " 'also: movie industry wrests agreement from defunct company microsoft challenges photoshop   hellip;',\n",
       " 'and more',\n",
       " 'hp to buy synstar hewlettpackard will pay \\\\$297 million for the british company',\n",
       " 'also: tivo goes all out to attract customers   hellip;',\n",
       " 'sprint offers service guarantees for business wireless subscribers   hellip;',\n",
       " 'and more',\n",
       " 'a personal operator from verizon verizon plans to offer a service that would act as a virtual switchboard operator letting customers stay in touch at all times',\n",
       " 'the program would send phone calls voicemails and emails wherever customers designate',\n",
       " 'by elisa batista',\n",
       " 'paid search growth may slow a new internet advertising forecast shows a slowdown in paid search listings in the next five years',\n",
       " \"will the projection affect google's prospects when it goes public\",\n",
       " 'fark sells out',\n",
       " 'france surrenders blogs are the hottest thing on the net but are they messing with traditional publishing principles',\n",
       " 'one of the most popular farkcom is allegedly selling links',\n",
       " 'is it the wave of the future',\n",
       " 'by daniel terdiman',\n",
       " \"'madden' 'espn' football score in different ways (reuters) reuters  was absenteeism a little high\\\\on tuesday among the guys at the office\",\n",
       " 'ea sports would like\\\\to think it was because \"madden nfl 2005\" came out that day\\\\and some fans of the football simulation are rabid enough to\\\\take a sick day to play it',\n",
       " 'group to propose new highspeed wireless format (reuters) reuters  a group of technology companies\\\\including texas instruments inc (txnn) stmicroelectronics\\\\(stmpa) and broadcom corp (brcmo) on thursday said they\\\\will propose a new wireless networking standard up to 10 times\\\\the speed of the current generation',\n",
       " 'aol to sell cheap pcs to minorities and seniors (reuters) reuters  america online on thursday said it\\\\plans to sell a lowpriced pc targeting lowincome and minority\\\\households who agree to sign up for a year of dialup internet\\\\service',\n",
       " 'companies approve new highcapacity disc format (reuters) reuters  a group of consumer electronics\\\\makers said on wednesday they approved the format for a new\\\\generation of discs that can store five times the data of dvds\\\\at the same cost  enough to put a full season of \"the\\\\sopranos\" on one disc',\n",
       " 'missing june deals slow to return for software cos (reuters) reuters  the mystery of what went wrong for the\\\\software industry in late june when sales stalled at more than\\\\20 brandname companies is not even close to being solved\\\\although the third quarter is nearly halfway over',\n",
       " \"hacker cracks apple's streaming technology (ap) ap  the norwegian hacker famed for developing dvd encryptioncracking software has apparently struck again  #151; this time breaking the locks on apple computer inc's wireless music streaming technology\",\n",
       " 'european download services go mobile (reuters) reuters  the ability to download complete\\\\tracks directly over cellphone networks to mobile phones is\\\\becoming a reality in europe',\n",
       " 'open source apps developer sugarcrm releases sugarsales 11 (techweb) techweb  news  august 13 2004',\n",
       " \"oracle sales data seen being released (reuters) reuters  oracle corp sales documents\\\\detailing highly confidential information such as which\\\\companies receive discounts on oracle's business software\\\\products and the size of the discounts are likely to be made\\\\public a federal judge said on friday\",\n",
       " \"sun's looking glass provides 3d view (pc world) pc world  developers get early code for new operating system 'skin' still being crafted\",\n",
       " 'apple to open second japanese retail store this month (maccentral) maccentral  apple computer inc will open its second japanese retail store later this month in the western japanese city of osaka it said thursday',\n",
       " \"charley's force took experts by surprise (ap) ap  hurricane charley's 145mph force took forecasters by surprise and showed just how shaky a science it still is to predict a storm's intensity  #151; even with all the latest satellite and radar technology\",\n",
       " \"science politics collide in election year (ap) ap  with more than 4000 scientists including 48 nobel prize winners having signed a statement opposing the bush administration's use of scientific advice this election year is seeing a new development in the uneasy relationship between science and politics\",\n",
       " 'building dedicated to columbia astronauts (ap) ap  a former dormitory converted to classrooms at the pensacola naval air station was dedicated friday to two columbia astronauts who were among the seven who died in the shuttle disaster feb 1 2003',\n",
       " 'russian cargo craft docks at space station (ap) ap  a russian cargo ship docked with the international space station saturday bringing food water fuel and other items to the twoman russianamerican crew a space official said',\n",
       " \"bangkok's canals losing to urban sprawl (ap) ap  along the banks of the canal women in rowboats grill fish and sell fresh bananas\",\n",
       " 'families eat on floating pavilions rocked gently by waves from passing boats',\n",
       " 't rex had teen growth spurt scientists say (reuters) reuters  tyrannosaurus rex grew incredibly fast\\\\during a teenaged growth spurt that saw the dinosaur expand its\\\\bulk by six times but the fearsome beasts \"lived fast and died\\\\young\" researchers said on wednesday',\n",
       " 'gene blocker turns monkeys into workaholics  study (reuters) reuters  procrastinating monkeys were turned\\\\into workaholics using a gene treatment to block a key brain\\\\compound us researchers reported on wednesday',\n",
       " 'dolphins too have born socialites (reuters) reuters  some people are born to be the life and\\\\soul of the party  and so it seems are some dolphins',\n",
       " \"what's in a name\",\n",
       " 'well matt is sexier than paul (reuters) reuters  as shakespeare said a rose by any other\\\\name would smell as sweet',\n",
       " 'right',\n",
       " 'uk scientists allowed to clone human embryos (reuters) reuters  british scientists said on wednesday\\\\they had received permission to clone human embryos for medical\\\\research in what they believe to be the first such license to\\\\be granted in europe',\n",
       " 'russian alien spaceship claims raise eyebrows skepticism (spacecom) spacecom  an expedition of russian researchers claims to have found evidence that an \\\\  alien spaceship had something to do with a huge explosion over siberia in 1908',\n",
       " '\\\\  experts in asteroids and comets have long said the massive blast was caused \\\\  by a space rock']"
      ]
     },
     "execution_count": 6,
     "metadata": {},
     "output_type": "execute_result"
    }
   ],
   "source": [
    "sentences = [x.lower() for x in sentences]\n",
    "sentences = [re.sub(\"[.,!?\\\\-]\", '', x) for x in sentences]\n",
    "sentences"
   ]
  },
  {
   "cell_type": "markdown",
   "metadata": {},
   "source": [
    "## 2. Preprocessing\n",
    "\n",
    "### Tokenization and numericalization"
   ]
  },
  {
   "cell_type": "code",
   "execution_count": 7,
   "metadata": {},
   "outputs": [],
   "source": [
    "#making vocabs - numericalization\n",
    "word_list = list(set(\" \".join(sentences).split()))\n",
    "word2id   = {'[PAD]': 0, '[CLS]': 1, '[SEP]': 2, '[MASK]': 3}"
   ]
  },
  {
   "cell_type": "code",
   "execution_count": 8,
   "metadata": {},
   "outputs": [],
   "source": [
    "for i, w in enumerate(word_list):\n",
    "    word2id[w] = i + 4 #reserve the first 0-3 for CLS, PAD\n",
    "    \n",
    "vocab_size = len(word2id)\n",
    "id2word    = {i:w for i, w  in enumerate(word2id)}\n",
    "token_list = [[word2id[word] for word in sentence.split()] for sentence in sentences]"
   ]
  },
  {
   "cell_type": "code",
   "execution_count": 9,
   "metadata": {},
   "outputs": [
    {
     "data": {
      "text/plain": [
       "153"
      ]
     },
     "execution_count": 9,
     "metadata": {},
     "output_type": "execute_result"
    }
   ],
   "source": [
    "len(token_list)"
   ]
  },
  {
   "cell_type": "markdown",
   "metadata": {},
   "source": [
    "## 3. Data loader\n",
    "\n",
    "We gonna make dataloader.  Inside here, we need to make two types of embeddings: **token embedding** and **segment embedding**\n",
    "\n",
    "1. **Token embedding** - Given “The cat is walking. The dog is barking”, we add [CLS] and [SEP] >> “[CLS] the cat is walking [SEP] the dog is barking”. \n",
    "\n",
    "2. **Segment embedding**\n",
    "A segment embedding separates two sentences, i.e., [0 0 0 0 1 1 1 1 ]\n",
    "\n",
    "3. **Masking**\n",
    "As mentioned in the original paper, BERT randomly assigns masks to 15% of the sequence. In this 15%, 80% is replaced with masks, while 10% is replaced with random tokens, and the rest 10% is left as is.  Here we specified `max_pred` \n",
    "\n",
    "4. **Padding**\n",
    "Once we mask, we will add padding. For simplicity, here we padded until some specified `max_len`. \n",
    "\n",
    "Note:  `positive` and `negative` are just simply counts to keep track of the batch size.  `positive` refers to two sentences that are really next to one another."
   ]
  },
  {
   "cell_type": "code",
   "execution_count": 10,
   "metadata": {},
   "outputs": [],
   "source": [
    "def make_batch(batch_size, max_mask, max_len):\n",
    "    batch = []\n",
    "    half_batch_size = batch_size // 2\n",
    "    positive = negative = 0\n",
    "    while positive != half_batch_size or negative != half_batch_size:\n",
    "        \n",
    "        #randomly choose two sentence\n",
    "        tokens_a_index, tokens_b_index = np.random.randint(len(sentences), size=2)\n",
    "        tokens_a, tokens_b            = token_list[tokens_a_index], token_list[tokens_b_index]\n",
    "        \n",
    "        #1. token embedding - add CLS and SEP\n",
    "        input_ids = [word2id['[CLS]']] + tokens_a + [word2id['[SEP]']] + tokens_b + [word2id['[SEP]']]\n",
    "        \n",
    "        #2. segment embedding - which sentence is 0 and 1\n",
    "        segment_ids = [0] * (1 + len(tokens_a) + 1) + [1] * (len(tokens_b) + 1)\n",
    "        \n",
    "        n_pred = min(max_mask, max(1, int(round(len(input_ids) * 0.15))))\n",
    "        #get all the pos excluding CLS and SEP\n",
    "        candidates_masked_pos = [i for i, token in enumerate(input_ids) if token != word2id['[CLS]'] \n",
    "                                 and token != word2id['[SEP]']]\n",
    "        np.random.shuffle(candidates_masked_pos)\n",
    "        masked_tokens, masked_pos = [], []\n",
    "        #simply loop and mask accordingly\n",
    "        for pos in candidates_masked_pos[:n_pred]:\n",
    "            masked_pos.append(pos)\n",
    "            masked_tokens.append(input_ids[pos])\n",
    "            rand_val = np.random.random()\n",
    "            if rand_val < 0.1:  #10% replace with random token\n",
    "                index = np.random.randint(4, vocab_size - 1)  # random token should not involve [PAD], [CLS], [SEP], [MASK]\n",
    "                input_ids[pos] = word2id[id2word[index]]\n",
    "            elif rand_val < 0.8:  #80 replace with [MASK]\n",
    "                input_ids[pos] = word2id['[MASK]']\n",
    "            else: \n",
    "                pass\n",
    "            \n",
    "        #4. pad the sentence to the max length\n",
    "        n_pad = max_len - len(input_ids)\n",
    "        input_ids.extend([0] * n_pad)\n",
    "        segment_ids.extend([0] * n_pad)\n",
    "        \n",
    "        #5. pad the mask tokens to the max length\n",
    "        if max_mask > n_pred:\n",
    "            n_pad = max_mask - n_pred\n",
    "            masked_tokens.extend([0] * n_pad)\n",
    "            masked_pos.extend([0] * n_pad)\n",
    "        \n",
    "        #6. check whether is positive or negative\n",
    "        if tokens_a_index + 1 == tokens_b_index and positive < half_batch_size:\n",
    "            batch.append([input_ids, segment_ids, masked_tokens, masked_pos, True])\n",
    "            positive += 1\n",
    "        elif tokens_a_index + 1 != tokens_b_index and negative < half_batch_size:\n",
    "            batch.append([input_ids, segment_ids, masked_tokens, masked_pos, False])\n",
    "            negative += 1\n",
    "        \n",
    "    return batch"
   ]
  },
  {
   "cell_type": "code",
   "execution_count": 11,
   "metadata": {},
   "outputs": [],
   "source": [
    "batch_size = 6\n",
    "max_mask   = 5 #even though it does not reach 15% yet....maybe you can set this threshold\n",
    "max_len    = 1000 #maximum length that my transformer will accept.....all sentence will be padded"
   ]
  },
  {
   "cell_type": "code",
   "execution_count": 12,
   "metadata": {},
   "outputs": [],
   "source": [
    "batch = make_batch(batch_size, max_mask, max_len)"
   ]
  },
  {
   "cell_type": "code",
   "execution_count": 13,
   "metadata": {},
   "outputs": [],
   "source": [
    "input_ids, segment_ids, masked_tokens, masked_pos, isNext = map(torch.LongTensor, zip(*batch))"
   ]
  },
  {
   "cell_type": "code",
   "execution_count": 14,
   "metadata": {},
   "outputs": [
    {
     "data": {
      "text/plain": [
       "(torch.Size([6, 1000]),\n",
       " torch.Size([6, 1000]),\n",
       " torch.Size([6, 5]),\n",
       " torch.Size([6, 5]),\n",
       " tensor([0, 0, 1, 0, 1, 1]))"
      ]
     },
     "execution_count": 14,
     "metadata": {},
     "output_type": "execute_result"
    }
   ],
   "source": [
    "input_ids.shape, segment_ids.shape, masked_tokens.shape, masked_pos.shape, isNext"
   ]
  },
  {
   "cell_type": "code",
   "execution_count": 15,
   "metadata": {},
   "outputs": [],
   "source": [
    "class Embedding(nn.Module):\n",
    "    def __init__(self, vocab_size, max_len, n_segments, d_model, device):\n",
    "        super(Embedding, self).__init__()\n",
    "        self.tok_embed = nn.Embedding(vocab_size, d_model)  # token embedding\n",
    "        self.pos_embed = nn.Embedding(max_len, d_model)      # position embedding\n",
    "        self.seg_embed = nn.Embedding(n_segments, d_model)  # segment(token type) embedding\n",
    "        self.norm = nn.LayerNorm(d_model)\n",
    "        self.device = device\n",
    "\n",
    "    def forward(self, x, seg):\n",
    "        #x, seg: (bs, len)\n",
    "        seq_len = x.size(1)\n",
    "        pos = torch.arange(seq_len, dtype=torch.long).to(self.device)\n",
    "        pos = pos.unsqueeze(0).expand_as(x)  # (len,) -> (bs, len)\n",
    "        embedding = self.tok_embed(x) + self.pos_embed(pos) + self.seg_embed(seg)\n",
    "        return self.norm(embedding)"
   ]
  },
  {
   "cell_type": "code",
   "execution_count": 16,
   "metadata": {},
   "outputs": [],
   "source": [
    "def get_attn_pad_mask(seq_q, seq_k, device):\n",
    "    batch_size, len_q = seq_q.size()\n",
    "    batch_size, len_k = seq_k.size()\n",
    "    # eq(zero) is PAD token\n",
    "    pad_attn_mask = seq_k.data.eq(0).unsqueeze(1).to(device)  # batch_size x 1 x len_k(=len_q), one is masking\n",
    "    return pad_attn_mask.expand(batch_size, len_q, len_k)  # batch_size x len_q x len_k"
   ]
  },
  {
   "cell_type": "code",
   "execution_count": 17,
   "metadata": {},
   "outputs": [
    {
     "name": "stdout",
     "output_type": "stream",
     "text": [
      "torch.Size([6, 1000, 1000])\n"
     ]
    }
   ],
   "source": [
    "print(get_attn_pad_mask(input_ids, input_ids, 'cpu').shape)"
   ]
  },
  {
   "cell_type": "code",
   "execution_count": 18,
   "metadata": {},
   "outputs": [],
   "source": [
    "class EncoderLayer(nn.Module):\n",
    "    def __init__(self, n_heads, d_model, d_ff, d_k, device):\n",
    "        super(EncoderLayer, self).__init__()\n",
    "        self.enc_self_attn = MultiHeadAttention(n_heads, d_model, d_k, device)\n",
    "        self.pos_ffn       = PoswiseFeedForwardNet(d_model, d_ff)\n",
    "\n",
    "    def forward(self, enc_inputs, enc_self_attn_mask):\n",
    "        enc_outputs, attn = self.enc_self_attn(enc_inputs, enc_inputs, enc_inputs, enc_self_attn_mask) # enc_inputs to same Q,K,V\n",
    "        enc_outputs = self.pos_ffn(enc_outputs) # enc_outputs: [batch_size x len_q x d_model]\n",
    "        return enc_outputs, attn"
   ]
  },
  {
   "cell_type": "code",
   "execution_count": 19,
   "metadata": {},
   "outputs": [],
   "source": [
    "class ScaledDotProductAttention(nn.Module):\n",
    "    def __init__(self, d_k, device):\n",
    "        super(ScaledDotProductAttention, self).__init__()\n",
    "        self.scale = torch.sqrt(torch.FloatTensor([d_k])).to(device)\n",
    "\n",
    "    def forward(self, Q, K, V, attn_mask):\n",
    "        scores = torch.matmul(Q, K.transpose(-1, -2)) / self.scale # scores : [batch_size x n_heads x len_q(=len_k) x len_k(=len_q)]\n",
    "        scores.masked_fill_(attn_mask, -1e9) # Fills elements of self tensor with value where mask is one.\n",
    "        attn = nn.Softmax(dim=-1)(scores)\n",
    "        context = torch.matmul(attn, V)\n",
    "        return context, attn "
   ]
  },
  {
   "cell_type": "code",
   "execution_count": 20,
   "metadata": {},
   "outputs": [],
   "source": [
    "class MultiHeadAttention(nn.Module):\n",
    "    def __init__(self, n_heads, d_model, d_k, device):\n",
    "        super(MultiHeadAttention, self).__init__()\n",
    "        self.n_heads = n_heads\n",
    "        self.d_model = d_model\n",
    "        self.d_k = d_k\n",
    "        self.d_v = d_k\n",
    "        self.W_Q = nn.Linear(d_model, d_k * n_heads)\n",
    "        self.W_K = nn.Linear(d_model, d_k * n_heads)\n",
    "        self.W_V = nn.Linear(d_model, self.d_v * n_heads)\n",
    "        self.device = device\n",
    "    def forward(self, Q, K, V, attn_mask):\n",
    "        # q: [batch_size x len_q x d_model], k: [batch_size x len_k x d_model], v: [batch_size x len_k x d_model]\n",
    "        residual, batch_size = Q, Q.size(0)\n",
    "        # (B, S, D) -proj-> (B, S, D) -split-> (B, S, H, W) -trans-> (B, H, S, W)\n",
    "        q_s = self.W_Q(Q).view(batch_size, -1, self.n_heads, self.d_k).transpose(1,2)  # q_s: [batch_size x n_heads x len_q x d_k]\n",
    "        k_s = self.W_K(K).view(batch_size, -1, self.n_heads, self.d_k).transpose(1,2)  # k_s: [batch_size x n_heads x len_k x d_k]\n",
    "        v_s = self.W_V(V).view(batch_size, -1, self.n_heads, self.d_v).transpose(1,2)  # v_s: [batch_size x n_heads x len_k x d_v]\n",
    "\n",
    "        attn_mask = attn_mask.unsqueeze(1).repeat(1, self.n_heads, 1, 1) # attn_mask : [batch_size x n_heads x len_q x len_k]\n",
    "\n",
    "        # context: [batch_size x n_heads x len_q x d_v], attn: [batch_size x n_heads x len_q(=len_k) x len_k(=len_q)]\n",
    "        context, attn = ScaledDotProductAttention(self.d_k, self.device)(q_s, k_s, v_s, attn_mask)\n",
    "        context = context.transpose(1, 2).contiguous().view(batch_size, -1, self.n_heads * self.d_v) # context: [batch_size x len_q x n_heads * d_v]\n",
    "        output = nn.Linear(self.n_heads * self.d_v, self.d_model, device=self.device)(context)\n",
    "        return nn.LayerNorm(self.d_model, device=self.device)(output + residual), attn # output: [batch_size x len_q x d_model]\n"
   ]
  },
  {
   "cell_type": "code",
   "execution_count": 21,
   "metadata": {},
   "outputs": [],
   "source": [
    "class PoswiseFeedForwardNet(nn.Module):\n",
    "    def __init__(self, d_model, d_ff):\n",
    "        super(PoswiseFeedForwardNet, self).__init__()\n",
    "        self.fc1 = nn.Linear(d_model, d_ff)\n",
    "        self.fc2 = nn.Linear(d_ff, d_model)\n",
    "\n",
    "    def forward(self, x):\n",
    "        # (batch_size, len_seq, d_model) -> (batch_size, len_seq, d_ff) -> (batch_size, len_seq, d_model)\n",
    "        return self.fc2(F.gelu(self.fc1(x)))"
   ]
  },
  {
   "cell_type": "code",
   "execution_count": 22,
   "metadata": {},
   "outputs": [],
   "source": [
    "class BERT(nn.Module):\n",
    "    def __init__(self, n_layers, n_heads, d_model, d_ff, d_k, n_segments, vocab_size, max_len, device):\n",
    "        super(BERT, self).__init__()\n",
    "        self.params = {'n_layers': n_layers, 'n_heads': n_heads, 'd_model': d_model,\n",
    "                       'd_ff': d_ff, 'd_k': d_k, 'n_segments': n_segments,\n",
    "                       'vocab_size': vocab_size, 'max_len': max_len}\n",
    "        self.embedding = Embedding(vocab_size, max_len, n_segments, d_model, device)\n",
    "        self.layers = nn.ModuleList([EncoderLayer(n_heads, d_model, d_ff, d_k, device) for _ in range(n_layers)])\n",
    "        self.fc = nn.Linear(d_model, d_model)\n",
    "        self.activ = nn.Tanh()\n",
    "        self.linear = nn.Linear(d_model, d_model)\n",
    "        self.norm = nn.LayerNorm(d_model)\n",
    "        self.classifier = nn.Linear(d_model, 2)\n",
    "        # decoder is shared with embedding layer\n",
    "        embed_weight = self.embedding.tok_embed.weight\n",
    "        n_vocab, n_dim = embed_weight.size()\n",
    "        self.decoder = nn.Linear(n_dim, n_vocab, bias=False)\n",
    "        self.decoder.weight = embed_weight\n",
    "        self.decoder_bias = nn.Parameter(torch.zeros(n_vocab))\n",
    "        self.device = device\n",
    "\n",
    "    def forward(self, input_ids, segment_ids, masked_pos):\n",
    "        output = self.embedding(input_ids, segment_ids)\n",
    "        enc_self_attn_mask = get_attn_pad_mask(input_ids, input_ids, self.device)\n",
    "        for layer in self.layers:\n",
    "            output, enc_self_attn = layer(output, enc_self_attn_mask)\n",
    "        # output : [batch_size, len, d_model], attn : [batch_size, n_heads, d_mode, d_model]\n",
    "        \n",
    "        # 1. predict next sentence\n",
    "        # it will be decided by first token(CLS)\n",
    "        h_pooled   = self.activ(self.fc(output[:, 0])) # [batch_size, d_model]\n",
    "        logits_nsp = self.classifier(h_pooled) # [batch_size, 2]\n",
    "\n",
    "        # 2. predict the masked token\n",
    "        masked_pos = masked_pos[:, :, None].expand(-1, -1, output.size(-1)) # [batch_size, max_pred, d_model]\n",
    "        h_masked = torch.gather(output, 1, masked_pos) # masking position [batch_size, max_pred, d_model]\n",
    "        h_masked  = self.norm(F.gelu(self.linear(h_masked)))\n",
    "        logits_lm = self.decoder(h_masked) + self.decoder_bias # [batch_size, max_pred, n_vocab]\n",
    "\n",
    "        return logits_lm, logits_nsp\n",
    "    \n",
    "    def get_last_hidden_state(self, input_ids, segment_ids):\n",
    "        output = self.embedding(input_ids, segment_ids)\n",
    "        enc_self_attn_mask = get_attn_pad_mask(input_ids, input_ids, self.device)\n",
    "        for layer in self.layers:\n",
    "            output, enc_self_attn = layer(output, enc_self_attn_mask)\n",
    "\n",
    "        return output"
   ]
  },
  {
   "cell_type": "code",
   "execution_count": 23,
   "metadata": {},
   "outputs": [
    {
     "name": "stdout",
     "output_type": "stream",
     "text": [
      "cuda\n"
     ]
    }
   ],
   "source": [
    "device = 'cuda' if torch.cuda.is_available() else 'cpu'\n",
    "print(device)\n",
    "\n",
    "#make our work comparable if restarted the kernel\n",
    "SEED = 1234\n",
    "torch.manual_seed(SEED)\n",
    "torch.backends.cudnn.deterministic = True"
   ]
  },
  {
   "cell_type": "code",
   "execution_count": 24,
   "metadata": {},
   "outputs": [],
   "source": [
    "n_layers = 6    # number of Encoder of Encoder Layer\n",
    "n_heads  = 8    # number of heads in Multi-Head Attention\n",
    "d_model  = 768  # Embedding Size\n",
    "d_ff = 768 * 4  # 4*d_model, FeedForward dimension\n",
    "d_k = d_v = 64  # dimension of K(=Q), V\n",
    "n_segments = 2"
   ]
  },
  {
   "cell_type": "code",
   "execution_count": 27,
   "metadata": {},
   "outputs": [
    {
     "name": "stderr",
     "output_type": "stream",
     "text": [
      "100%|██████████| 200/200 [00:06<00:00, 32.97it/s]\n"
     ]
    }
   ],
   "source": [
    "from tqdm import tqdm\n",
    "\n",
    "num_epoch = 3\n",
    "num_step = 200 \n",
    "\n",
    "model = BERT(n_layers, n_heads, d_model, d_ff, d_k, n_segments, vocab_size, max_len, device).to(device)\n",
    "criterion = nn.CrossEntropyLoss()\n",
    "optimizer = optim.Adam(model.parameters(), lr=0.001)\n",
    "batch = [make_batch(batch_size, max_mask, max_len) for i in tqdm(range(num_step))]"
   ]
  },
  {
   "cell_type": "code",
   "execution_count": 28,
   "metadata": {},
   "outputs": [
    {
     "name": "stderr",
     "output_type": "stream",
     "text": [
      "100%|██████████| 200/200 [01:49<00:00,  1.82it/s]\n"
     ]
    },
    {
     "name": "stdout",
     "output_type": "stream",
     "text": [
      "Epoch: 00 loss = 28.881791\n"
     ]
    },
    {
     "name": "stderr",
     "output_type": "stream",
     "text": [
      "100%|██████████| 200/200 [02:11<00:00,  1.52it/s]\n"
     ]
    },
    {
     "name": "stdout",
     "output_type": "stream",
     "text": [
      "Epoch: 01 loss = 12.716000\n"
     ]
    },
    {
     "name": "stderr",
     "output_type": "stream",
     "text": [
      "100%|██████████| 200/200 [02:11<00:00,  1.52it/s]"
     ]
    },
    {
     "name": "stdout",
     "output_type": "stream",
     "text": [
      "Epoch: 02 loss = 10.452049\n"
     ]
    },
    {
     "name": "stderr",
     "output_type": "stream",
     "text": [
      "\n"
     ]
    }
   ],
   "source": [
    "for epoch in range(num_epoch):\n",
    "    epoch_loss = 0\n",
    "\n",
    "    for step in tqdm(range(num_step)):\n",
    "        optimizer.zero_grad()\n",
    "        input_ids, segment_ids, masked_tokens, masked_pos, isNext = map(torch.LongTensor, zip(*batch[step]))\n",
    "        input_ids = input_ids.to(device)\n",
    "        segment_ids = segment_ids.to(device)\n",
    "        masked_tokens = masked_tokens.to(device)\n",
    "        masked_pos = masked_pos.to(device)\n",
    "        isNext = isNext.to(device)\n",
    "        logits_lm, logits_nsp = model(input_ids, segment_ids, masked_pos)    \n",
    "        #logits_lm: (bs, max_mask, vocab_size) ==> (6, 5, 34)\n",
    "        #logits_nsp: (bs, yes/no) ==> (6, 2)\n",
    "\n",
    "        #1. mlm loss\n",
    "        #logits_lm.transpose: (bs, vocab_size, max_mask) vs. masked_tokens: (bs, max_mask)\n",
    "        loss_lm = criterion(logits_lm.transpose(1, 2), masked_tokens) # for masked LM\n",
    "        loss_lm = (loss_lm.float()).mean()\n",
    "        #2. nsp loss\n",
    "        #logits_nsp: (bs, 2) vs. isNext: (bs, )\n",
    "        loss_nsp = criterion(logits_nsp, isNext) # for sentence classification\n",
    "        \n",
    "        #3. combine loss\n",
    "        loss = loss_lm + loss_nsp\n",
    "        epoch_loss += loss.item()\n",
    "        loss.backward()\n",
    "        optimizer.step()\n",
    "\n",
    "    print('Epoch:', '%02d' % (epoch), 'loss =', '{:.6f}'.format(epoch_loss / num_step))"
   ]
  },
  {
   "cell_type": "code",
   "execution_count": 29,
   "metadata": {},
   "outputs": [],
   "source": [
    "# Save model to source file folder\n",
    "torch.save([model.params, model.state_dict()], 'bert_model.pt')"
   ]
  },
  {
   "cell_type": "markdown",
   "metadata": {},
   "source": [
    "## 6. Inference"
   ]
  },
  {
   "cell_type": "code",
   "execution_count": 30,
   "metadata": {},
   "outputs": [
    {
     "data": {
      "text/plain": [
       "<All keys matched successfully>"
      ]
     },
     "execution_count": 30,
     "metadata": {},
     "output_type": "execute_result"
    }
   ],
   "source": [
    "# Load model\n",
    "params, state = torch.load('bert_model.pt')\n",
    "model = BERT(**params, device=device).to(device)\n",
    "model.load_state_dict(state)"
   ]
  },
  {
   "cell_type": "code",
   "execution_count": 31,
   "metadata": {},
   "outputs": [
    {
     "name": "stdout",
     "output_type": "stream",
     "text": [
      "['[CLS]', 'dolphins', 'too', 'have', 'born', 'socialites', '(reuters)', 'reuters', 'some', '[MASK]', 'are', 'born', 'to', 'be', 'the', 'life', 'and\\\\soul', 'of', 'the', 'party', 'and', 'so', 'it', 'seems', 'are', '[MASK]', 'dolphins', '[SEP]', 'quot;', 'democratic', 'presidential', 'candidate', '[MASK]', 'john', '[MASK]', 'kerry', 'in', 'the', 'wake', 'of', 'this', \"month's\", 'poor', 'jobs', 'report', 'quipped', 'that', 'it', 'was', 'more', 'like', 'a', 'uturn', '[SEP]']\n",
      "masked tokens (words) :  ['some', 'f', 'jobs', 'senator', 'people']\n",
      "masked tokens list :  [894, 1582, 1579, 44, 1109]\n",
      "predicted masked tokens (words) :  ['with', 'with', 'with', 'with', 'with']\n",
      "predicted masked tokens list :  [845, 845, 845, 845, 845]\n",
      "1\n",
      "isNext :  False\n",
      "predict isNext :  True\n"
     ]
    }
   ],
   "source": [
    "# Predict mask tokens ans isNext\n",
    "input_ids, segment_ids, masked_tokens, masked_pos, isNext = map(torch.LongTensor, zip(batch[0][0]))\n",
    "input_ids = input_ids.to(device)\n",
    "segment_ids = segment_ids.to(device)\n",
    "masked_tokens = masked_tokens.to(device)\n",
    "masked_pos = masked_pos.to(device)\n",
    "isNext = isNext.to(device)\n",
    "print([id2word[w.item()] for w in input_ids[0] if id2word[w.item()] != '[PAD]'])\n",
    "\n",
    "logits_lm, logits_nsp = model(input_ids, segment_ids, masked_pos)\n",
    "#logits_lm:  (1, max_mask, vocab_size) ==> (1, 5, 34)\n",
    "#logits_nsp: (1, yes/no) ==> (1, 2)\n",
    "\n",
    "#predict masked tokens\n",
    "#max the probability along the vocab dim (2), [1] is the indices of the max, and [0] is the first value\n",
    "logits_lm = logits_lm.data.cpu().max(2)[1][0].data.numpy() \n",
    "#note that zero is padding we add to the masked_tokens\n",
    "print('masked tokens (words) : ',[id2word[pos.item()] for pos in masked_tokens[0]])\n",
    "print('masked tokens list : ',[pos.item() for pos in masked_tokens[0]])\n",
    "print('predicted masked tokens (words) : ',[id2word[pos.item()] for pos in logits_lm])\n",
    "print('predicted masked tokens list : ', [pos for pos in logits_lm])\n",
    "\n",
    "#predict nsp\n",
    "logits_nsp = logits_nsp.data.cpu().max(1)[1][0].data.numpy()\n",
    "print(logits_nsp)\n",
    "print('isNext : ', True if isNext else False)\n",
    "print('predict isNext : ',True if logits_nsp else False)"
   ]
  }
 ],
 "metadata": {
  "kernelspec": {
   "display_name": "Python 3",
   "language": "python",
   "name": "python3"
  },
  "language_info": {
   "codemirror_mode": {
    "name": "ipython",
    "version": 3
   },
   "file_extension": ".py",
   "mimetype": "text/x-python",
   "name": "python",
   "nbconvert_exporter": "python",
   "pygments_lexer": "ipython3",
   "version": "3.10.11"
  }
 },
 "nbformat": 4,
 "nbformat_minor": 2
}
